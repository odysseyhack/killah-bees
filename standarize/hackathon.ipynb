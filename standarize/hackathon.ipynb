{
 "cells": [
  {
   "cell_type": "code",
   "execution_count": 1,
   "metadata": {},
   "outputs": [],
   "source": [
    "import pandas as pd\n",
    "import numpy as np"
   ]
  },
  {
   "cell_type": "code",
   "execution_count": null,
   "metadata": {},
   "outputs": [],
   "source": [
    "data = pd.read_csv('./data.csv')\n",
    "\n",
    "data = data.transpose()\n",
    "data = data.assign(target_class='target')\n",
    "\n",
    "\n",
    "for (i, row) in data.iterrows():\n",
    "    row['target_class'] = row.name\n",
    "    \n",
    "\n",
    "data = data.reset_index(drop=True)\n",
    "\n",
    "data.describe()\n"
   ]
  },
  {
   "cell_type": "code",
   "execution_count": 3,
   "metadata": {},
   "outputs": [],
   "source": [
    "#import sys\n",
    "\n",
    "newDataset = []\n",
    "\n",
    "for (i, row) in data.iterrows():\n",
    "    for c in data:\n",
    "        newDataset.append([str (row[c]), row['target_class']])"
   ]
  },
  {
   "cell_type": "code",
   "execution_count": 4,
   "metadata": {},
   "outputs": [
    {
     "data": {
      "text/plain": [
       "(1520106, 2)"
      ]
     },
     "execution_count": 4,
     "metadata": {},
     "output_type": "execute_result"
    }
   ],
   "source": [
    "newDf = pd.DataFrame(newDataset, columns = ['value', 'target_class'])\n",
    "\n",
    "newDf.shape"
   ]
  },
  {
   "cell_type": "code",
   "execution_count": 5,
   "metadata": {},
   "outputs": [
    {
     "data": {
      "text/html": [
       "<div>\n",
       "<style scoped>\n",
       "    .dataframe tbody tr th:only-of-type {\n",
       "        vertical-align: middle;\n",
       "    }\n",
       "\n",
       "    .dataframe tbody tr th {\n",
       "        vertical-align: top;\n",
       "    }\n",
       "\n",
       "    .dataframe thead th {\n",
       "        text-align: right;\n",
       "    }\n",
       "</style>\n",
       "<table border=\"1\" class=\"dataframe\">\n",
       "  <thead>\n",
       "    <tr style=\"text-align: right;\">\n",
       "      <th></th>\n",
       "      <th>value</th>\n",
       "      <th>target_class</th>\n",
       "    </tr>\n",
       "  </thead>\n",
       "  <tbody>\n",
       "    <tr>\n",
       "      <th>count</th>\n",
       "      <td>1520106</td>\n",
       "      <td>1520106</td>\n",
       "    </tr>\n",
       "    <tr>\n",
       "      <th>unique</th>\n",
       "      <td>71440</td>\n",
       "      <td>34</td>\n",
       "    </tr>\n",
       "    <tr>\n",
       "      <th>top</th>\n",
       "      <td>nan</td>\n",
       "      <td>K_SUBJ_ADRES2</td>\n",
       "    </tr>\n",
       "    <tr>\n",
       "      <th>freq</th>\n",
       "      <td>300551</td>\n",
       "      <td>44709</td>\n",
       "    </tr>\n",
       "  </tbody>\n",
       "</table>\n",
       "</div>"
      ],
      "text/plain": [
       "          value   target_class\n",
       "count   1520106        1520106\n",
       "unique    71440             34\n",
       "top         nan  K_SUBJ_ADRES2\n",
       "freq     300551          44709"
      ]
     },
     "execution_count": 5,
     "metadata": {},
     "output_type": "execute_result"
    }
   ],
   "source": [
    "newDf.describe()"
   ]
  },
  {
   "cell_type": "code",
   "execution_count": 6,
   "metadata": {},
   "outputs": [],
   "source": [
    "# split into training set and test set\n",
    "\n",
    "from sklearn.model_selection import train_test_split\n",
    "\n",
    "newDf = newDf.sample(n=50000, random_state=1)\n",
    "\n",
    "x=newDf['value'].values\n",
    "y=newDf['target_class'].values\n",
    "\n",
    "train_input, test_input, class_train, class_test = train_test_split(x, y, test_size=0.20, random_state=1000)\n"
   ]
  },
  {
   "cell_type": "code",
   "execution_count": 7,
   "metadata": {},
   "outputs": [
    {
     "name": "stdout",
     "output_type": "stream",
     "text": [
      "train:  (40000, 1000)\n",
      "test: (10000, 1000)\n"
     ]
    },
    {
     "data": {
      "text/plain": [
       "<10000x1000 sparse matrix of type '<class 'numpy.int64'>'\n",
       "\twith 126148 stored elements in Compressed Sparse Row format>"
      ]
     },
     "execution_count": 7,
     "metadata": {},
     "output_type": "execute_result"
    }
   ],
   "source": [
    "from sklearn import feature_extraction\n",
    "count_vect = feature_extraction.text.CountVectorizer(ngram_range=(1,2), analyzer=\"char\")\n",
    "\n",
    "count_vect.fit(train_input)\n",
    "count_vect.fit(test_input)\n",
    "\n",
    "X_train = count_vect.transform(train_input)\n",
    "X_test = count_vect.transform(test_input) \n",
    "\n",
    "#b = count_vect.fit_transform(newDf.value)"
   ]
  },
  {
   "cell_type": "code",
   "execution_count": 8,
   "metadata": {},
   "outputs": [
    {
     "data": {
      "text/plain": [
       "(40000,)"
      ]
     },
     "execution_count": 8,
     "metadata": {},
     "output_type": "execute_result"
    }
   ],
   "source": [
    "from sklearn.feature_selection import SelectKBest\n",
    "from sklearn.feature_selection import chi2\n",
    "\n",
    "\n",
    "selector = SelectKBest(chi2, k=1000)\n",
    "X_train = selector.fit_transform(X_train, class_train)\n",
    "\n",
    "cols = selector.get_support(indices=True)\n",
    "# Create new dataframe with only desired columns, or overwrite existing\n",
    "colsDf = pd.DataFrame(cols)"
   ]
  },
  {
   "cell_type": "code",
   "execution_count": 9,
   "metadata": {},
   "outputs": [
    {
     "name": "stderr",
     "output_type": "stream",
     "text": [
      "C:\\Users\\Dell\\Anaconda3\\lib\\site-packages\\sklearn\\linear_model\\logistic.py:433: FutureWarning: Default solver will be changed to 'lbfgs' in 0.22. Specify a solver to silence this warning.\n",
      "  FutureWarning)\n",
      "C:\\Users\\Dell\\Anaconda3\\lib\\site-packages\\sklearn\\linear_model\\logistic.py:460: FutureWarning: Default multi_class will be changed to 'auto' in 0.22. Specify the multi_class option to silence this warning.\n",
      "  \"this warning.\", FutureWarning)\n"
     ]
    },
    {
     "data": {
      "text/plain": [
       "0.6398"
      ]
     },
     "execution_count": 9,
     "metadata": {},
     "output_type": "execute_result"
    }
   ],
   "source": [
    "from sklearn.linear_model import LogisticRegression\n",
    "\n",
    "classifier = LogisticRegression()\n",
    "\n",
    "classifier.fit(X_train, class_train)\n",
    "\n",
    "score = classifier.score(X_test, class_test)\n",
    "score"
   ]
  },
  {
   "cell_type": "code",
   "execution_count": null,
   "metadata": {},
   "outputs": [],
   "source": [
    "# deep learning model\n",
    "#import tensorflow as tf\n",
    "\n",
    "#def train_input_fn(features, labels, batch_size):\n",
    "#    \"\"\"An input function for training\"\"\"\n",
    "#    # Convert the inputs to a Dataset.\n",
    "#    dataset = tf.data.Dataset.from_tensor_slices((dict(features), labels))\n",
    "#\n",
    "#    # Shuffle, repeat, and batch the examples.\n",
    "#    return dataset.shuffle(1000).repeat().batch(batch_size)\n",
    "\n",
    "\n",
    "#classifier = tf.estimator.DNNClassifier(\n",
    "#    feature_columns=colsDf,\n",
    "#    hidden_units=[10,10],\n",
    "#    n_classes=34\n",
    "#)\n",
    "\n",
    "#classifier.train(\n",
    "#    input_fn=lambda: train_input_fn(X_train, class_train, 10),\n",
    "#    steps=100)\n"
   ]
  },
  {
   "cell_type": "code",
   "execution_count": null,
   "metadata": {},
   "outputs": [],
   "source": [
    "# from keras.models import Sequential\n",
    "#from keras import layers\n",
    "#from sklearn import preprocessing\n",
    "\n",
    "#le = preprocessing.LabelEncoder()\n",
    "\n",
    "#class_train = le.fit_transform(class_train)\n",
    "#class_test = le.fit_transform(class_test)\n",
    "\n",
    "\n",
    "#print(class_train[0:20])"
   ]
  },
  {
   "cell_type": "code",
   "execution_count": null,
   "metadata": {},
   "outputs": [],
   "source": [
    "#from scipy.sparse import csr_matrix\n",
    "\n",
    "\n",
    "#csr_matrix.todense(X_train)\n",
    "\n"
   ]
  },
  {
   "cell_type": "code",
   "execution_count": null,
   "metadata": {},
   "outputs": [],
   "source": [
    "#X_train[1:10]\n",
    "#X_test[1:10]"
   ]
  },
  {
   "cell_type": "code",
   "execution_count": null,
   "metadata": {},
   "outputs": [],
   "source": [
    "#from sklearn.naive_bayes import GaussianNB\n",
    "\n",
    "#model = GaussianNB()\n",
    "\n",
    "\n",
    "#model.fit(X_train,class_train)\n",
    "\n",
    "\n",
    "#y_pred = model.predict(X_test)\n",
    "\n"
   ]
  },
  {
   "cell_type": "code",
   "execution_count": null,
   "metadata": {},
   "outputs": [],
   "source": [
    "#input_dim = X_train.shape[1]\n",
    "\n",
    "#model = Sequential()\n",
    "\n",
    "#model.add(layers.Dense(10, input_dim=input_dim, activation='relu'))\n",
    "#model.add(layers.Dense(1, activation='sigmoid'))\n",
    "\n",
    "#model.compile(loss='binary_crossentropy', \n",
    "#              optimizer='adam', \n",
    "#              metrics=['accuracy'])\n",
    "#model.summary()"
   ]
  },
  {
   "cell_type": "code",
   "execution_count": null,
   "metadata": {
    "scrolled": false
   },
   "outputs": [],
   "source": [
    "#history = model.fit(X_train, class_train,\n",
    "#                    epochs=100,\n",
    "#                    verbose=True,\n",
    "#                    validation_data=(X_test, class_test),\n",
    "#                    batch_size=10)"
   ]
  },
  {
   "cell_type": "code",
   "execution_count": null,
   "metadata": {},
   "outputs": [],
   "source": [
    "#loss, accuracy = model.evaluate(X_train, class_train, verbose=False)\n",
    "#print(\"Training Accuracy: {:.4f}\".format(accuracy))\n",
    "#loss, accuracy = model.evaluate(X_test, class_test, verbose=False)\n",
    "#print(\"Testing Accuracy:  {:.4f}\".format(accuracy))"
   ]
  },
  {
   "cell_type": "code",
   "execution_count": null,
   "metadata": {},
   "outputs": [],
   "source": [
    "#X_train.shape\n"
   ]
  },
  {
   "cell_type": "code",
   "execution_count": null,
   "metadata": {},
   "outputs": [],
   "source": []
  }
 ],
 "metadata": {
  "kernelspec": {
   "display_name": "Python 3",
   "language": "python",
   "name": "python3"
  },
  "language_info": {
   "codemirror_mode": {
    "name": "ipython",
    "version": 3
   },
   "file_extension": ".py",
   "mimetype": "text/x-python",
   "name": "python",
   "nbconvert_exporter": "python",
   "pygments_lexer": "ipython3",
   "version": "3.7.3"
  }
 },
 "nbformat": 4,
 "nbformat_minor": 2
}
